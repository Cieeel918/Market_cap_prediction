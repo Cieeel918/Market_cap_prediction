{
 "cells": [
  {
   "cell_type": "code",
   "execution_count": 1,
   "metadata": {},
   "outputs": [],
   "source": [
    "import pandas as pd\n",
    "import numpy as np"
   ]
  },
  {
   "cell_type": "code",
   "execution_count": 3,
   "metadata": {},
   "outputs": [],
   "source": [
    "df = pd.read_csv(\"../data/data_preprocessed.csv\")"
   ]
  },
  {
   "cell_type": "code",
   "execution_count": 16,
   "metadata": {},
   "outputs": [
    {
     "data": {
      "text/plain": [
       "numpy.ndarray"
      ]
     },
     "execution_count": 16,
     "metadata": {},
     "output_type": "execute_result"
    }
   ],
   "source": [
    "type(df.Ticker.unique())"
   ]
  },
  {
   "cell_type": "code",
   "execution_count": 5,
   "metadata": {},
   "outputs": [],
   "source": [
    "def find_data(Ticker):\n",
    "    \"\"\"\n",
    "    这是一个根据用户输入的Ticker，返回该公司对应的数据\n",
    "    input:\n",
    "        Ticker(str):公司名称\n",
    "\n",
    "    output:\n",
    "        pd.Series:根据Ticker返回对应的行数据\n",
    "        str:如果Ticker没有找到则返回提示信息\n",
    "\n",
    "    \"\"\"\n",
    "    try:\n",
    "        df_standardized = pd.read_csv(\"../data/data_preprocessed.csv\", index_col=\"Ticker\")\n",
    "        result = df_standardized.loc[Ticker]\n",
    "        result = pd.DataFrame(result)\n",
    "        return result\n",
    "    except KeyError:\n",
    "        return f\"Ticker '{Ticker}' not found in the DataFrame.\""
   ]
  },
  {
   "cell_type": "code",
   "execution_count": 6,
   "metadata": {},
   "outputs": [
    {
     "data": {
      "text/plain": [
       "\"Ticker 'AAPL' not found in the DataFrame.\""
      ]
     },
     "execution_count": 6,
     "metadata": {},
     "output_type": "execute_result"
    }
   ],
   "source": [
    "find_data(\"AAPL\")"
   ]
  },
  {
   "cell_type": "code",
   "execution_count": 8,
   "metadata": {},
   "outputs": [],
   "source": [
    "df_standardized = pd.read_csv(\"../data/data_preprocessed.csv\", index_col=\"Ticker\")"
   ]
  },
  {
   "cell_type": "code",
   "execution_count": 13,
   "metadata": {},
   "outputs": [
    {
     "data": {
      "text/plain": [
       "Year                                     2023.000000\n",
       "Beta                                        0.303244\n",
       "Current Assets                             -0.005766\n",
       "Cash And Cash Equivalents                  -0.033315\n",
       "Current Liabilities                         0.010592\n",
       "                                            ...     \n",
       "industry_Utilities—Regulated Electric       0.000000\n",
       "industry_Utilities—Regulated Gas            0.000000\n",
       "industry_Utilities—Regulated Water          0.000000\n",
       "industry_Utilities—Renewable                0.000000\n",
       "industry_Waste Management                   0.000000\n",
       "Name: AAL, Length: 210, dtype: float64"
      ]
     },
     "execution_count": 13,
     "metadata": {},
     "output_type": "execute_result"
    }
   ],
   "source": [
    "df_standardized.loc[\"AAL\"]"
   ]
  },
  {
   "cell_type": "code",
   "execution_count": 12,
   "metadata": {},
   "outputs": [
    {
     "data": {
      "text/html": [
       "<div>\n",
       "<style scoped>\n",
       "    .dataframe tbody tr th:only-of-type {\n",
       "        vertical-align: middle;\n",
       "    }\n",
       "\n",
       "    .dataframe tbody tr th {\n",
       "        vertical-align: top;\n",
       "    }\n",
       "\n",
       "    .dataframe thead th {\n",
       "        text-align: right;\n",
       "    }\n",
       "</style>\n",
       "<table border=\"1\" class=\"dataframe\">\n",
       "  <thead>\n",
       "    <tr style=\"text-align: right;\">\n",
       "      <th></th>\n",
       "      <th>Ticker</th>\n",
       "      <th>Year</th>\n",
       "      <th>Beta</th>\n",
       "      <th>Current Assets</th>\n",
       "      <th>Cash And Cash Equivalents</th>\n",
       "      <th>Current Liabilities</th>\n",
       "      <th>Total Liabilities Net Minority Interest</th>\n",
       "      <th>Depreciation And Amortization</th>\n",
       "      <th>Capital Expenditure</th>\n",
       "      <th>Net Income</th>\n",
       "      <th>...</th>\n",
       "      <th>industry_Utilities - Diversified</th>\n",
       "      <th>industry_Utilities - Regulated Water</th>\n",
       "      <th>industry_Utilities - Renewable</th>\n",
       "      <th>industry_Utilities—Diversified</th>\n",
       "      <th>industry_Utilities—Independent Power Producers</th>\n",
       "      <th>industry_Utilities—Regulated Electric</th>\n",
       "      <th>industry_Utilities—Regulated Gas</th>\n",
       "      <th>industry_Utilities—Regulated Water</th>\n",
       "      <th>industry_Utilities—Renewable</th>\n",
       "      <th>industry_Waste Management</th>\n",
       "    </tr>\n",
       "  </thead>\n",
       "  <tbody>\n",
       "    <tr>\n",
       "      <th>2</th>\n",
       "      <td>AAL</td>\n",
       "      <td>2023</td>\n",
       "      <td>0.303244</td>\n",
       "      <td>-0.005766</td>\n",
       "      <td>-0.033315</td>\n",
       "      <td>0.010592</td>\n",
       "      <td>0.039089</td>\n",
       "      <td>-0.021735</td>\n",
       "      <td>0.019558</td>\n",
       "      <td>0.026116</td>\n",
       "      <td>...</td>\n",
       "      <td>0.0</td>\n",
       "      <td>0.0</td>\n",
       "      <td>0.0</td>\n",
       "      <td>0.0</td>\n",
       "      <td>0.0</td>\n",
       "      <td>0.0</td>\n",
       "      <td>0.0</td>\n",
       "      <td>0.0</td>\n",
       "      <td>0.0</td>\n",
       "      <td>0.0</td>\n",
       "    </tr>\n",
       "  </tbody>\n",
       "</table>\n",
       "<p>1 rows × 211 columns</p>\n",
       "</div>"
      ],
      "text/plain": [
       "  Ticker  Year      Beta  Current Assets  Cash And Cash Equivalents  \\\n",
       "2    AAL  2023  0.303244       -0.005766                  -0.033315   \n",
       "\n",
       "   Current Liabilities  Total Liabilities Net Minority Interest  \\\n",
       "2             0.010592                                 0.039089   \n",
       "\n",
       "   Depreciation And Amortization  Capital Expenditure  Net Income  ...  \\\n",
       "2                      -0.021735             0.019558    0.026116  ...   \n",
       "\n",
       "   industry_Utilities - Diversified  industry_Utilities - Regulated Water  \\\n",
       "2                               0.0                                   0.0   \n",
       "\n",
       "   industry_Utilities - Renewable  industry_Utilities—Diversified  \\\n",
       "2                             0.0                             0.0   \n",
       "\n",
       "   industry_Utilities—Independent Power Producers  \\\n",
       "2                                             0.0   \n",
       "\n",
       "   industry_Utilities—Regulated Electric  industry_Utilities—Regulated Gas  \\\n",
       "2                                    0.0                               0.0   \n",
       "\n",
       "   industry_Utilities—Regulated Water  industry_Utilities—Renewable  \\\n",
       "2                                 0.0                           0.0   \n",
       "\n",
       "   industry_Waste Management  \n",
       "2                        0.0  \n",
       "\n",
       "[1 rows x 211 columns]"
      ]
     },
     "execution_count": 12,
     "metadata": {},
     "output_type": "execute_result"
    }
   ],
   "source": [
    "df.query(\"\"\"Ticker == 'AAL'\"\"\")"
   ]
  },
  {
   "cell_type": "code",
   "execution_count": null,
   "metadata": {},
   "outputs": [],
   "source": []
  }
 ],
 "metadata": {
  "kernelspec": {
   "display_name": "base",
   "language": "python",
   "name": "python3"
  },
  "language_info": {
   "codemirror_mode": {
    "name": "ipython",
    "version": 3
   },
   "file_extension": ".py",
   "mimetype": "text/x-python",
   "name": "python",
   "nbconvert_exporter": "python",
   "pygments_lexer": "ipython3",
   "version": "3.8.12"
  }
 },
 "nbformat": 4,
 "nbformat_minor": 2
}
